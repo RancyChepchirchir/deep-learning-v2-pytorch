{
 "cells": [
  {
   "cell_type": "markdown",
   "metadata": {},
   "source": [
    "# Inference and Validation\n",
    "\n",
    "Now that you have a trained network, you can use it for making predictions. This is typically called **inference**, a term borrowed from statistics. However, neural networks have a tendency to perform *too well* on the training data and aren't able to generalize to data that hasn't been seen before. This is called **overfitting** and it impairs inference performance. To test for overfitting while training, we measure the performance on data not in the training set called the **validation** set. We avoid overfitting through regularization such as dropout while monitoring the validation performance during training. In this notebook, I'll show you how to do this in PyTorch. \n",
    "\n",
    "As usual, let's start by loading the dataset through torchvision. You'll learn more about torchvision and loading data in a later part. This time we'll be taking advantage of the test set which you can get by setting `train=False` here:\n",
    "\n",
    "```python\n",
    "testset = datasets.FashionMNIST('~/.pytorch/F_MNIST_data/', download=True, train=False, transform=transform)\n",
    "```\n",
    "\n",
    "The test set contains images just like the training set. Typically you'll see 10-20% of the original dataset held out for testing and validation with the rest being used for training."
   ]
  },
  {
   "cell_type": "code",
   "execution_count": 1,
   "metadata": {},
   "outputs": [
    {
     "name": "stdout",
     "output_type": "stream",
     "text": [
      "GeForce MX150\n"
     ]
    }
   ],
   "source": [
    "import torch\n",
    "from torchvision import datasets, transforms\n",
    "\n",
    "print(torch.cuda.get_device_name(0))\n",
    "\n",
    "# Define a transform to normalize the data\n",
    "transform = transforms.Compose([transforms.ToTensor(),\n",
    "                                transforms.Normalize((0.5, 0.5, 0.5), (0.5, 0.5, 0.5))])\n",
    "# Download and load the training data\n",
    "trainset = datasets.FashionMNIST(\n",
    "    '~/.pytorch/F_MNIST_data/', download=True, train=True, transform=transform)\n",
    "trainloader = torch.utils.data.DataLoader(\n",
    "    trainset, batch_size=64, shuffle=True)\n",
    "\n",
    "# Download and load the test data\n",
    "testset = datasets.FashionMNIST(\n",
    "    '~/.pytorch/F_MNIST_data/', download=True, train=False, transform=transform)\n",
    "testloader = torch.utils.data.DataLoader(testset, batch_size=64, shuffle=True)"
   ]
  },
  {
   "cell_type": "markdown",
   "metadata": {},
   "source": [
    "Here I'll create a model like normal, using the same one from my solution for part 4."
   ]
  },
  {
   "cell_type": "code",
   "execution_count": 2,
   "metadata": {},
   "outputs": [],
   "source": [
    "from torch import nn, optim\n",
    "import torch.nn.functional as F\n",
    "\n",
    "\n",
    "class Classifier(nn.Module):\n",
    "    def __init__(self):\n",
    "        super().__init__()\n",
    "        self.fc1 = nn.Linear(784, 256)\n",
    "        self.fc2 = nn.Linear(256, 128)\n",
    "        self.fc3 = nn.Linear(128, 64)\n",
    "        self.fc4 = nn.Linear(64, 10)\n",
    "\n",
    "    def forward(self, x):\n",
    "        # make sure input tensor is flattened\n",
    "        x = x.view(x.shape[0], -1)\n",
    "\n",
    "        x = F.relu(self.fc1(x))\n",
    "        x = F.relu(self.fc2(x))\n",
    "        x = F.relu(self.fc3(x))\n",
    "        x = F.log_softmax(self.fc4(x), dim=1)\n",
    "\n",
    "        return x"
   ]
  },
  {
   "cell_type": "markdown",
   "metadata": {},
   "source": [
    "The goal of validation is to measure the model's performance on data that isn't part of the training set. Performance here is up to the developer to define though. Typically this is just accuracy, the percentage of classes the network predicted correctly. Other options are [precision and recall](https://en.wikipedia.org/wiki/Precision_and_recall#Definition_(classification_context)) and top-5 error rate. We'll focus on accuracy here. First I'll do a forward pass with one batch from the test set."
   ]
  },
  {
   "cell_type": "code",
   "execution_count": 3,
   "metadata": {},
   "outputs": [
    {
     "name": "stdout",
     "output_type": "stream",
     "text": [
      "torch.Size([64, 10])\n"
     ]
    }
   ],
   "source": [
    "model = Classifier()\n",
    "\n",
    "images, labels = next(iter(testloader))\n",
    "# Get the class probabilities\n",
    "ps = torch.exp(model(images))\n",
    "# Make sure the shape is appropriate, we should get 10 class probabilities for 64 examples\n",
    "print(ps.shape)"
   ]
  },
  {
   "cell_type": "markdown",
   "metadata": {},
   "source": [
    "With the probabilities, we can get the most likely class using the `ps.topk` method. This returns the $k$ highest values. Since we just want the most likely class, we can use `ps.topk(1)`. This returns a tuple of the top-$k$ values and the top-$k$ indices. If the highest value is the fifth element, we'll get back 4 as the index."
   ]
  },
  {
   "cell_type": "code",
   "execution_count": 4,
   "metadata": {},
   "outputs": [
    {
     "name": "stdout",
     "output_type": "stream",
     "text": [
      "tensor([[5],\n",
      "        [5],\n",
      "        [5],\n",
      "        [8],\n",
      "        [5],\n",
      "        [5],\n",
      "        [5],\n",
      "        [5],\n",
      "        [5],\n",
      "        [5]]) tensor([[0.1111],\n",
      "        [0.1104],\n",
      "        [0.1123],\n",
      "        [0.1114],\n",
      "        [0.1109],\n",
      "        [0.1097],\n",
      "        [0.1113],\n",
      "        [0.1126],\n",
      "        [0.1119],\n",
      "        [0.1125]], grad_fn=<SliceBackward>)\n"
     ]
    }
   ],
   "source": [
    "top_p, top_class = ps.topk(1, dim=1)\n",
    "# Look at the most likely classes for the first 10 examples\n",
    "print(top_class[:10, :], top_p[:10, :])"
   ]
  },
  {
   "cell_type": "markdown",
   "metadata": {},
   "source": [
    "Now we can check if the predicted classes match the labels. This is simple to do by equating `top_class` and `labels`, but we have to be careful of the shapes. Here `top_class` is a 2D tensor with shape `(64, 1)` while `labels` is 1D with shape `(64)`. To get the equality to work out the way we want, `top_class` and `labels` must have the same shape.\n",
    "\n",
    "If we do\n",
    "\n",
    "```python\n",
    "equals = top_class == labels\n",
    "```\n",
    "\n",
    "`equals` will have shape `(64, 64)`, try it yourself. What it's doing is comparing the one element in each row of `top_class` with each element in `labels` which returns 64 True/False boolean values for each row."
   ]
  },
  {
   "cell_type": "code",
   "execution_count": 5,
   "metadata": {},
   "outputs": [],
   "source": [
    "equals = top_class == labels.view(*top_class.shape)"
   ]
  },
  {
   "cell_type": "markdown",
   "metadata": {},
   "source": [
    "Now we need to calculate the percentage of correct predictions. `equals` has binary values, either 0 or 1. This means that if we just sum up all the values and divide by the number of values, we get the percentage of correct predictions. This is the same operation as taking the mean, so we can get the accuracy with a call to `torch.mean`. If only it was that simple. If you try `torch.mean(equals)`, you'll get an error\n",
    "\n",
    "```\n",
    "RuntimeError: mean is not implemented for type torch.ByteTensor\n",
    "```\n",
    "\n",
    "This happens because `equals` has type `torch.ByteTensor` but `torch.mean` isn't implement for tensors with that type. So we'll need to convert `equals` to a float tensor. Note that when we take `torch.mean` it returns a scalar tensor, to get the actual value as a float we'll need to do `accuracy.item()`."
   ]
  },
  {
   "cell_type": "code",
   "execution_count": 6,
   "metadata": {},
   "outputs": [
    {
     "name": "stdout",
     "output_type": "stream",
     "text": [
      "Accuracy: 14.0625%\n"
     ]
    }
   ],
   "source": [
    "accuracy = torch.mean(equals.type(torch.FloatTensor))\n",
    "print(f'Accuracy: {accuracy.item()*100}%')"
   ]
  },
  {
   "cell_type": "markdown",
   "metadata": {},
   "source": [
    "The network is untrained so it's making random guesses and we should see an accuracy around 10%. Now let's train our network and include our validation pass so we can measure how well the network is performing on the test set. Since we're not updating our parameters in the validation pass, we can speed up our code by turning off gradients using `torch.no_grad()`:\n",
    "\n",
    "```python\n",
    "# turn off gradients\n",
    "with torch.no_grad():\n",
    "    # validation pass here\n",
    "    for images, labels in testloader:\n",
    "        ...\n",
    "```\n",
    "\n",
    ">**Exercise:** Implement the validation loop below and print out the total accuracy after the loop. You can largely copy and paste the code from above, but I suggest typing it in because writing it out yourself is essential for building the skill. In general you'll always learn more by typing it rather than copy-pasting. You should be able to get an accuracy above 80%."
   ]
  },
  {
   "cell_type": "code",
   "execution_count": 7,
   "metadata": {},
   "outputs": [
    {
     "name": "stdout",
     "output_type": "stream",
     "text": [
      "+++++++++++++++=========================+++++++++++++++\n",
      "Epoch: 0 Train Loss: 0.5155 Valid Loss : 0.4406 Accuracy: 84.33%\n",
      "+++++++++++++++=========================+++++++++++++++\n",
      "Epoch: 1 Train Loss: 0.3901 Valid Loss : 0.4039 Accuracy: 85.35%\n",
      "+++++++++++++++=========================+++++++++++++++\n",
      "Epoch: 2 Train Loss: 0.3539 Valid Loss : 0.4059 Accuracy: 85.52%\n",
      "+++++++++++++++=========================+++++++++++++++\n",
      "Epoch: 3 Train Loss: 0.3314 Valid Loss : 0.3822 Accuracy: 86.27%\n",
      "+++++++++++++++=========================+++++++++++++++\n",
      "Epoch: 4 Train Loss: 0.3166 Valid Loss : 0.3636 Accuracy: 87.19%\n",
      "+++++++++++++++=========================+++++++++++++++\n",
      "Epoch: 5 Train Loss: 0.3056 Valid Loss : 0.3665 Accuracy: 87.41%\n",
      "+++++++++++++++=========================+++++++++++++++\n",
      "Epoch: 6 Train Loss: 0.2880 Valid Loss : 0.3606 Accuracy: 87.64%\n",
      "+++++++++++++++=========================+++++++++++++++\n",
      "Epoch: 7 Train Loss: 0.2836 Valid Loss : 0.3930 Accuracy: 86.62%\n",
      "+++++++++++++++=========================+++++++++++++++\n",
      "Epoch: 8 Train Loss: 0.2745 Valid Loss : 0.3674 Accuracy: 87.64%\n",
      "+++++++++++++++=========================+++++++++++++++\n",
      "Epoch: 9 Train Loss: 0.2667 Valid Loss : 0.3881 Accuracy: 86.83%\n",
      "+++++++++++++++=========================+++++++++++++++\n",
      "Epoch: 10 Train Loss: 0.2627 Valid Loss : 0.3851 Accuracy: 87.05%\n",
      "+++++++++++++++=========================+++++++++++++++\n",
      "Epoch: 11 Train Loss: 0.2573 Valid Loss : 0.3798 Accuracy: 87.07%\n",
      "+++++++++++++++=========================+++++++++++++++\n",
      "Epoch: 12 Train Loss: 0.2495 Valid Loss : 0.3882 Accuracy: 87.47%\n",
      "+++++++++++++++=========================+++++++++++++++\n",
      "Epoch: 13 Train Loss: 0.2425 Valid Loss : 0.3748 Accuracy: 87.94%\n",
      "+++++++++++++++=========================+++++++++++++++\n",
      "Epoch: 14 Train Loss: 0.2380 Valid Loss : 0.3628 Accuracy: 88.15%\n",
      "+++++++++++++++=========================+++++++++++++++\n",
      "Epoch: 15 Train Loss: 0.2362 Valid Loss : 0.3632 Accuracy: 88.18%\n",
      "+++++++++++++++=========================+++++++++++++++\n",
      "Epoch: 16 Train Loss: 0.2324 Valid Loss : 0.3997 Accuracy: 87.41%\n",
      "+++++++++++++++=========================+++++++++++++++\n",
      "Epoch: 17 Train Loss: 0.2262 Valid Loss : 0.4016 Accuracy: 87.09%\n",
      "+++++++++++++++=========================+++++++++++++++\n",
      "Epoch: 18 Train Loss: 0.2219 Valid Loss : 0.4046 Accuracy: 87.41%\n",
      "+++++++++++++++=========================+++++++++++++++\n",
      "Epoch: 19 Train Loss: 0.2199 Valid Loss : 0.3845 Accuracy: 87.82%\n",
      "+++++++++++++++=========================+++++++++++++++\n",
      "Epoch: 20 Train Loss: 0.2170 Valid Loss : 0.3937 Accuracy: 87.71%\n",
      "+++++++++++++++=========================+++++++++++++++\n",
      "Epoch: 21 Train Loss: 0.2128 Valid Loss : 0.4102 Accuracy: 87.72%\n",
      "+++++++++++++++=========================+++++++++++++++\n",
      "Epoch: 22 Train Loss: 0.2060 Valid Loss : 0.4077 Accuracy: 88.37%\n",
      "+++++++++++++++=========================+++++++++++++++\n",
      "Epoch: 23 Train Loss: 0.2119 Valid Loss : 0.4265 Accuracy: 87.79%\n",
      "+++++++++++++++=========================+++++++++++++++\n",
      "Epoch: 24 Train Loss: 0.2033 Valid Loss : 0.4059 Accuracy: 87.90%\n",
      "+++++++++++++++=========================+++++++++++++++\n",
      "Epoch: 25 Train Loss: 0.1979 Valid Loss : 0.3972 Accuracy: 88.12%\n",
      "+++++++++++++++=========================+++++++++++++++\n",
      "Epoch: 26 Train Loss: 0.1987 Valid Loss : 0.4038 Accuracy: 87.95%\n",
      "+++++++++++++++=========================+++++++++++++++\n",
      "Epoch: 27 Train Loss: 0.1947 Valid Loss : 0.4257 Accuracy: 88.19%\n",
      "+++++++++++++++=========================+++++++++++++++\n",
      "Epoch: 28 Train Loss: 0.1911 Valid Loss : 0.4411 Accuracy: 87.96%\n",
      "+++++++++++++++=========================+++++++++++++++\n",
      "Epoch: 29 Train Loss: 0.1890 Valid Loss : 0.4293 Accuracy: 88.29%\n"
     ]
    }
   ],
   "source": [
    "import numpy as np\n",
    "\n",
    "model = Classifier()\n",
    "model.cuda()\n",
    "criterion = nn.NLLLoss()\n",
    "optimizer = optim.Adam(model.parameters(), lr=0.003)\n",
    "\n",
    "epochs = 30\n",
    "steps = 0\n",
    "\n",
    "train_losses, test_losses = [], []\n",
    "for e in range(epochs):\n",
    "    running_loss = 0\n",
    "    for images, labels in trainloader:\n",
    "        images = images.cuda()\n",
    "        labels = labels.cuda()\n",
    "        optimizer.zero_grad()\n",
    "\n",
    "        log_ps = model(images)\n",
    "        loss = criterion(log_ps, labels)\n",
    "        loss.backward()\n",
    "        optimizer.step()\n",
    "\n",
    "        running_loss += loss.item()\n",
    "\n",
    "    else:\n",
    "        with torch.no_grad():\n",
    "\n",
    "            valid_acc = []\n",
    "            valid_loss = 0\n",
    "\n",
    "            for valid_images, valid_labels in testloader:\n",
    "                valid_images = valid_images.cuda()\n",
    "                valid_labels = valid_labels.cuda()\n",
    "\n",
    "                valid_log_ps = model.forward(valid_images)\n",
    "                valid_ps = torch.exp(valid_log_ps)\n",
    "\n",
    "                top_p, top_class = valid_ps.topk(1, dim=1)\n",
    "                equals = top_class == valid_labels.view(*top_class.shape)\n",
    "\n",
    "                accuracy = torch.mean(equals.type(torch.FloatTensor))\n",
    "                valid_acc.append(accuracy.item())\n",
    "\n",
    "                valid_loss += criterion(valid_log_ps, valid_labels).item()\n",
    "\n",
    "        valid_acc = np.array(valid_acc).mean()\n",
    "\n",
    "        # TODO: Implement the validation pass and print out the validation accuracy\n",
    "        print('+'*15 + '=' * 30 + '+'*15)\n",
    "        print(f'Epoch: {e} \\t Train Loss: {running_loss / len(trainloader):.4f} Valid Loss : {valid_loss / len(testloader):.4f} Accuracy: {valid_acc*100:.2f}%')"
   ]
  },
  {
   "cell_type": "markdown",
   "metadata": {},
   "source": [
    "## Overfitting\n",
    "\n",
    "If we look at the training and validation losses as we train the network, we can see a phenomenon known as overfitting.\n",
    "\n",
    "<img src='assets/overfitting.png' width=450px>\n",
    "\n",
    "The network learns the training set better and better, resulting in lower training losses. However, it starts having problems generalizing to data outside the training set leading to the validation loss increasing. The ultimate goal of any deep learning model is to make predictions on new data, so we should strive to get the lowest validation loss possible. One option is to use the version of the model with the lowest validation loss, here the one around 8-10 training epochs. This strategy is called *early-stopping*. In practice, you'd save the model frequently as you're training then later choose the model with the lowest validation loss.\n",
    "\n",
    "The most common method to reduce overfitting (outside of early-stopping) is *dropout*, where we randomly drop input units. This forces the network to share information between weights, increasing it's ability to generalize to new data. Adding dropout in PyTorch is straightforward using the [`nn.Dropout`](https://pytorch.org/docs/stable/nn.html#torch.nn.Dropout) module.\n",
    "\n",
    "```python\n",
    "class Classifier(nn.Module):\n",
    "    def __init__(self):\n",
    "        super().__init__()\n",
    "        self.fc1 = nn.Linear(784, 256)\n",
    "        self.fc2 = nn.Linear(256, 128)\n",
    "        self.fc3 = nn.Linear(128, 64)\n",
    "        self.fc4 = nn.Linear(64, 10)\n",
    "        \n",
    "        # Dropout module with 0.2 drop probability\n",
    "        self.dropout = nn.Dropout(p=0.2)\n",
    "        \n",
    "    def forward(self, x):\n",
    "        # make sure input tensor is flattened\n",
    "        x = x.view(x.shape[0], -1)\n",
    "        \n",
    "        # Now with dropout\n",
    "        x = self.dropout(F.relu(self.fc1(x)))\n",
    "        x = self.dropout(F.relu(self.fc2(x)))\n",
    "        x = self.dropout(F.relu(self.fc3(x)))\n",
    "        \n",
    "        # output so no dropout here\n",
    "        x = F.log_softmax(self.fc4(x), dim=1)\n",
    "        \n",
    "        return x\n",
    "```\n",
    "\n",
    "During training we want to use dropout to prevent overfitting, but during inference we want to use the entire network. So, we need to turn off dropout during validation, testing, and whenever we're using the network to make predictions. To do this, you use `model.eval()`. This sets the model to evaluation mode where the dropout probability is 0. You can turn dropout back on by setting the model to train mode with `model.train()`. In general, the pattern for the validation loop will look like this, where you turn off gradients, set the model to evaluation mode, calculate the validation loss and metric, then set the model back to train mode.\n",
    "\n",
    "```python\n",
    "# turn off gradients\n",
    "with torch.no_grad():\n",
    "    \n",
    "    # set model to evaluation mode\n",
    "    model.eval()\n",
    "    \n",
    "    # validation pass here\n",
    "    for images, labels in testloader:\n",
    "        ...\n",
    "\n",
    "# set model back to train mode\n",
    "model.train()\n",
    "```"
   ]
  },
  {
   "cell_type": "markdown",
   "metadata": {},
   "source": [
    "> **Exercise:** Add dropout to your model and train it on Fashion-MNIST again. See if you can get a lower validation loss or higher accuracy."
   ]
  },
  {
   "cell_type": "code",
   "execution_count": 8,
   "metadata": {},
   "outputs": [],
   "source": [
    "# TODO: Define your model with dropout added\n",
    "class Classifier(nn.Module):\n",
    "    def __init__(self):\n",
    "        super().__init__()\n",
    "        self.fc1 = nn.Linear(784, 256)\n",
    "        self.fc2 = nn.Linear(256, 128)\n",
    "        self.fc3 = nn.Linear(128, 64)\n",
    "        self.fc4 = nn.Linear(64, 10)\n",
    "        self.dropout = nn.Dropout(0.4)\n",
    "\n",
    "    def forward(self, x):\n",
    "        # make sure input tensor is flattened\n",
    "        x = x.view(x.shape[0], -1)\n",
    "\n",
    "        x = self.dropout(F.relu(self.fc1(x)))\n",
    "        x = self.dropout(F.relu(self.fc2(x)))\n",
    "        x = self.dropout(F.relu(self.fc3(x)))\n",
    "        x = F.log_softmax(self.fc4(x), dim=1)\n",
    "\n",
    "        return x"
   ]
  },
  {
   "cell_type": "code",
   "execution_count": 9,
   "metadata": {},
   "outputs": [
    {
     "name": "stdout",
     "output_type": "stream",
     "text": [
      "++++++++++++++++++++     Epoch: 0     ++++++++++++++++++++\n",
      "Training: Loss = 0.7387 Accuracy = 73.77%\n",
      "Validation: Loss = 0.5112 Accuracy = 80.65%\n",
      "++++++++++++++++++++     Epoch: 1     ++++++++++++++++++++\n",
      "Training: Loss = 0.6004 Accuracy = 79.58%\n",
      "Validation: Loss = 0.4687 Accuracy = 82.97%\n",
      "++++++++++++++++++++     Epoch: 2     ++++++++++++++++++++\n",
      "Training: Loss = 0.5687 Accuracy = 80.77%\n",
      "Validation: Loss = 0.4733 Accuracy = 83.33%\n",
      "++++++++++++++++++++     Epoch: 3     ++++++++++++++++++++\n",
      "Training: Loss = 0.5531 Accuracy = 81.32%\n",
      "Validation: Loss = 0.4615 Accuracy = 83.06%\n",
      "++++++++++++++++++++     Epoch: 4     ++++++++++++++++++++\n",
      "Training: Loss = 0.5425 Accuracy = 81.60%\n",
      "Validation: Loss = 0.4460 Accuracy = 83.55%\n",
      "++++++++++++++++++++     Epoch: 5     ++++++++++++++++++++\n",
      "Training: Loss = 0.5386 Accuracy = 81.86%\n",
      "Validation: Loss = 0.4271 Accuracy = 84.90%\n",
      "++++++++++++++++++++     Epoch: 6     ++++++++++++++++++++\n",
      "Training: Loss = 0.5286 Accuracy = 81.84%\n",
      "Validation: Loss = 0.4446 Accuracy = 83.89%\n",
      "++++++++++++++++++++     Epoch: 7     ++++++++++++++++++++\n",
      "Training: Loss = 0.5264 Accuracy = 82.12%\n",
      "Validation: Loss = 0.4213 Accuracy = 84.72%\n",
      "++++++++++++++++++++     Epoch: 8     ++++++++++++++++++++\n",
      "Training: Loss = 0.5298 Accuracy = 82.21%\n",
      "Validation: Loss = 0.4368 Accuracy = 84.61%\n",
      "++++++++++++++++++++     Epoch: 9     ++++++++++++++++++++\n",
      "Training: Loss = 0.5202 Accuracy = 82.63%\n",
      "Validation: Loss = 0.4347 Accuracy = 84.87%\n",
      "++++++++++++++++++++     Epoch: 10     ++++++++++++++++++++\n",
      "Training: Loss = 0.5164 Accuracy = 82.51%\n",
      "Validation: Loss = 0.4243 Accuracy = 84.53%\n",
      "++++++++++++++++++++     Epoch: 11     ++++++++++++++++++++\n",
      "Training: Loss = 0.5226 Accuracy = 82.48%\n",
      "Validation: Loss = 0.4332 Accuracy = 84.95%\n",
      "++++++++++++++++++++     Epoch: 12     ++++++++++++++++++++\n",
      "Training: Loss = 0.5154 Accuracy = 82.60%\n",
      "Validation: Loss = 0.4328 Accuracy = 84.58%\n",
      "++++++++++++++++++++     Epoch: 13     ++++++++++++++++++++\n",
      "Training: Loss = 0.5097 Accuracy = 82.91%\n",
      "Validation: Loss = 0.4250 Accuracy = 84.73%\n",
      "++++++++++++++++++++     Epoch: 14     ++++++++++++++++++++\n",
      "Training: Loss = 0.5086 Accuracy = 82.83%\n",
      "Validation: Loss = 0.4204 Accuracy = 85.19%\n",
      "++++++++++++++++++++     Epoch: 15     ++++++++++++++++++++\n",
      "Training: Loss = 0.5010 Accuracy = 83.17%\n",
      "Validation: Loss = 0.4194 Accuracy = 85.53%\n",
      "++++++++++++++++++++     Epoch: 16     ++++++++++++++++++++\n",
      "Training: Loss = 0.5186 Accuracy = 82.57%\n",
      "Validation: Loss = 0.4588 Accuracy = 83.59%\n",
      "++++++++++++++++++++     Epoch: 17     ++++++++++++++++++++\n",
      "Training: Loss = 0.5088 Accuracy = 83.09%\n",
      "Validation: Loss = 0.4197 Accuracy = 85.23%\n",
      "++++++++++++++++++++     Epoch: 18     ++++++++++++++++++++\n",
      "Training: Loss = 0.4988 Accuracy = 83.17%\n",
      "Validation: Loss = 0.4193 Accuracy = 85.37%\n",
      "++++++++++++++++++++     Epoch: 19     ++++++++++++++++++++\n",
      "Training: Loss = 0.5014 Accuracy = 83.33%\n",
      "Validation: Loss = 0.4328 Accuracy = 84.19%\n",
      "++++++++++++++++++++     Epoch: 20     ++++++++++++++++++++\n",
      "Training: Loss = 0.4996 Accuracy = 83.15%\n",
      "Validation: Loss = 0.4074 Accuracy = 86.03%\n",
      "++++++++++++++++++++     Epoch: 21     ++++++++++++++++++++\n",
      "Training: Loss = 0.4945 Accuracy = 83.45%\n",
      "Validation: Loss = 0.4194 Accuracy = 85.83%\n",
      "++++++++++++++++++++     Epoch: 22     ++++++++++++++++++++\n",
      "Training: Loss = 0.4978 Accuracy = 83.49%\n",
      "Validation: Loss = 0.4445 Accuracy = 84.73%\n",
      "++++++++++++++++++++     Epoch: 23     ++++++++++++++++++++\n",
      "Training: Loss = 0.4975 Accuracy = 83.32%\n",
      "Validation: Loss = 0.4352 Accuracy = 85.15%\n",
      "++++++++++++++++++++     Epoch: 24     ++++++++++++++++++++\n",
      "Training: Loss = 0.5020 Accuracy = 83.11%\n",
      "Validation: Loss = 0.4172 Accuracy = 85.06%\n",
      "++++++++++++++++++++     Epoch: 25     ++++++++++++++++++++\n",
      "Training: Loss = 0.4913 Accuracy = 83.50%\n",
      "Validation: Loss = 0.4267 Accuracy = 85.08%\n",
      "++++++++++++++++++++     Epoch: 26     ++++++++++++++++++++\n",
      "Training: Loss = 0.4876 Accuracy = 83.64%\n",
      "Validation: Loss = 0.4283 Accuracy = 85.26%\n",
      "++++++++++++++++++++     Epoch: 27     ++++++++++++++++++++\n",
      "Training: Loss = 0.4941 Accuracy = 83.36%\n",
      "Validation: Loss = 0.4451 Accuracy = 84.41%\n",
      "++++++++++++++++++++     Epoch: 28     ++++++++++++++++++++\n",
      "Training: Loss = 0.4963 Accuracy = 83.21%\n",
      "Validation: Loss = 0.4110 Accuracy = 85.81%\n",
      "++++++++++++++++++++     Epoch: 29     ++++++++++++++++++++\n",
      "Training: Loss = 0.4952 Accuracy = 83.45%\n",
      "Validation: Loss = 0.4175 Accuracy = 85.98%\n"
     ]
    }
   ],
   "source": [
    "# TODO: Train your model with dropout, and monitor the training progress with the validation loss and accuracy\n",
    "import numpy as np\n",
    "\n",
    "model = Classifier()\n",
    "model.cuda()\n",
    "criterion = nn.NLLLoss()\n",
    "optimizer = optim.Adam(model.parameters(), lr=0.003)\n",
    "\n",
    "epochs = 30\n",
    "steps = 0\n",
    "\n",
    "train_losses, test_losses = [], []\n",
    "for e in range(epochs):\n",
    "    running_loss = 0\n",
    "    train_acc = []\n",
    "    for images, labels in trainloader:\n",
    "        images = images.cuda()\n",
    "        labels = labels.cuda()\n",
    "\n",
    "        optimizer.zero_grad()\n",
    "\n",
    "        log_ps = model(images)\n",
    "        ps = torch.exp(log_ps)\n",
    "        top_p, top_class = ps.topk(1, dim=1)\n",
    "        equals = top_class == labels.view(*top_class.shape)\n",
    "        accuracy = torch.mean(equals.type(torch.FloatTensor))\n",
    "        train_acc.append(accuracy.item())\n",
    "\n",
    "        loss = criterion(log_ps, labels)\n",
    "        loss.backward()\n",
    "        optimizer.step()\n",
    "\n",
    "        running_loss += loss.item()\n",
    "\n",
    "    else:\n",
    "        train_acc = np.array(train_acc).mean()\n",
    "        with torch.no_grad():\n",
    "            model.eval()\n",
    "            valid_acc = []\n",
    "            valid_running_loss = 0\n",
    "\n",
    "            for valid_images, valid_labels in testloader:\n",
    "                valid_images = valid_images.cuda()\n",
    "                valid_labels = valid_labels.cuda()\n",
    "\n",
    "                valid_log_ps = model.forward(valid_images)\n",
    "                valid_ps = torch.exp(valid_log_ps)\n",
    "                top_p, top_class = valid_ps.topk(1, dim=1)\n",
    "                equals = top_class == valid_labels.view(*top_class.shape)\n",
    "\n",
    "                accuracy = torch.mean(equals.type(torch.FloatTensor))\n",
    "                valid_acc.append(accuracy.item())\n",
    "\n",
    "                valid_loss = criterion(valid_log_ps, valid_labels)\n",
    "                valid_running_loss += valid_loss.item()\n",
    "\n",
    "        valid_acc = np.array(valid_acc).mean()\n",
    "\n",
    "        # TODO: Implement the validation pass and print out the validation accuracy\n",
    "        print('+' * 15 + ' ' * 5 + f'Epoch: {e}' + ' ' * 5 + '+' * 15)\n",
    "        print(\n",
    "            f'Training: Loss = {running_loss / len(trainloader):.4f} Accuracy = {train_acc*100:.2f}%')\n",
    "        print(\n",
    "            f'Validation: Loss = {valid_running_loss / len(testloader):.4f} Accuracy = {valid_acc*100:.2f}%\\n')\n",
    "    model.train()"
   ]
  },
  {
   "cell_type": "markdown",
   "metadata": {},
   "source": [
    "## Inference\n",
    "\n",
    "Now that the model is trained, we can use it for inference. We've done this before, but now we need to remember to set the model in inference mode with `model.eval()`. You'll also want to turn off autograd with the `torch.no_grad()` context."
   ]
  },
  {
   "cell_type": "code",
   "execution_count": 16,
   "metadata": {},
   "outputs": [
    {
     "data": {
      "image/png": "[encoded data removed]",
      "text/plain": [
       "<Figure size 432x648 with 2 Axes>"
      ]
     },
     "metadata": {},
     "output_type": "display_data"
    }
   ],
   "source": [
    "# Import helper module (should be in the repo)\n",
    "import helper\n",
    "\n",
    "# Test out your network!\n",
    "\n",
    "model.eval()\n",
    "\n",
    "dataiter = iter(testloader)\n",
    "images, labels = dataiter.next()\n",
    "img = images[0]\n",
    "# Convert 2D image to 1D vector\n",
    "img = img.view(1, 784)\n",
    "\n",
    "# Calculate the class probabilities (softmax) for img\n",
    "with torch.no_grad():\n",
    "    output = model.forward(img.cuda())\n",
    "\n",
    "ps = torch.exp(output).cpu()\n",
    "\n",
    "# Plot the image and probabilities\n",
    "helper.view_classify(img.view(1, 28, 28), ps, version='Fashion')"
   ]
  },
  {
   "cell_type": "markdown",
   "metadata": {},
   "source": [
    "## Next Up!\n",
    "\n",
    "In the next part, I'll show you how to save your trained models. In general, you won't want to train a model everytime you need it. Instead, you'll train once, save it, then load the model when you want to train more or use if for inference."
   ]
  }
 ],
 "metadata": {
  "kernelspec": {
   "display_name": "Python 3",
   "language": "python",
   "name": "python3"
  },
  "language_info": {
   "codemirror_mode": {
    "name": "ipython",
    "version": 3
   },
   "file_extension": ".py",
   "mimetype": "text/x-python",
   "name": "python",
   "nbconvert_exporter": "python",
   "pygments_lexer": "ipython3",
   "version": "3.6.5"
  },
  "toc": {
   "base_numbering": 1,
   "nav_menu": {},
   "number_sections": true,
   "sideBar": true,
   "skip_h1_title": false,
   "title_cell": "Table of Contents",
   "title_sidebar": "Contents",
   "toc_cell": false,
   "toc_position": {},
   "toc_section_display": true,
   "toc_window_display": false
  },
  "varInspector": {
   "cols": {
    "lenName": 16,
    "lenType": 16,
    "lenVar": 40
   },
   "kernels_config": {
    "python": {
     "delete_cmd_postfix": "",
     "delete_cmd_prefix": "del ",
     "library": "var_list.py",
     "varRefreshCmd": "print(var_dic_list())"
    },
    "r": {
     "delete_cmd_postfix": ") ",
     "delete_cmd_prefix": "rm(",
     "library": "var_list.r",
     "varRefreshCmd": "cat(var_dic_list()) "
    }
   },
   "types_to_exclude": [
    "module",
    "function",
    "builtin_function_or_method",
    "instance",
    "_Feature"
   ],
   "window_display": false
  }
 },
 "nbformat": 4,
 "nbformat_minor": 2
}
